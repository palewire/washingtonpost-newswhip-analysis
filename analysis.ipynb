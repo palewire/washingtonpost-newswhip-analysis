{
 "cells": [
  {
   "cell_type": "markdown",
   "id": "8606da8b-2ba0-40f2-9fa8-954020f398b2",
   "metadata": {},
   "source": [
    "# Washington Post Newswhip analysis\n",
    "\n",
    "By Ben Welsh"
   ]
  },
  {
   "cell_type": "markdown",
   "id": "7e657047-2556-482e-80bd-8544db5708dd",
   "metadata": {},
   "source": [
    "## Import\n",
    "\n",
    "Pull in our Python tools"
   ]
  },
  {
   "cell_type": "code",
   "execution_count": 166,
   "id": "e4346d91-be95-426f-b1e1-8bcdb39e77c8",
   "metadata": {},
   "outputs": [],
   "source": [
    "import json\n",
    "import time\n",
    "import pathlib\n",
    "from datetime import datetime, timezone"
   ]
  },
  {
   "cell_type": "code",
   "execution_count": 167,
   "id": "793bc876-6fa3-404c-99a1-42211f0e99f5",
   "metadata": {},
   "outputs": [],
   "source": [
    "import requests\n",
    "import pandas as pd\n",
    "import altair as alt\n",
    "from dateutil.relativedelta import relativedelta"
   ]
  },
  {
   "cell_type": "markdown",
   "id": "7dad0c3c-37ce-4d3e-935c-cf4ac0da23a4",
   "metadata": {},
   "source": [
    "## Download\n",
    "\n",
    "Fetch data from the Newswhipe API"
   ]
  },
  {
   "cell_type": "code",
   "execution_count": 141,
   "id": "ec196c1e-2255-4322-95d9-fa4c48c9be9c",
   "metadata": {},
   "outputs": [],
   "source": [
    "api_endpoint = 'https://api.newswhip.com/v1/stats?key=DevKey'"
   ]
  },
  {
   "cell_type": "code",
   "execution_count": null,
   "id": "68c00267-ea5a-4633-874a-242e3247b51a",
   "metadata": {},
   "outputs": [],
   "source": [
    "First get a range of months from the start of the API until this month."
   ]
  },
  {
   "cell_type": "code",
   "execution_count": 142,
   "id": "51b1082b-a61c-4078-b828-2e56edd0e966",
   "metadata": {},
   "outputs": [],
   "source": [
    "today = datetime.now()"
   ]
  },
  {
   "cell_type": "code",
   "execution_count": 143,
   "id": "9ac3e024-9489-4103-9e83-54c829b1c530",
   "metadata": {},
   "outputs": [],
   "source": [
    "this_month = datetime(today.year, today.month, 1, 0, 0, 0, tzinfo=timezone.utc)"
   ]
  },
  {
   "cell_type": "code",
   "execution_count": 144,
   "id": "dd2d5817-444c-4e18-8550-954596fe0855",
   "metadata": {},
   "outputs": [],
   "source": [
    "start_date = datetime(2014, 2, 1, 0, 0, 0, tzinfo=timezone.utc)"
   ]
  },
  {
   "cell_type": "code",
   "execution_count": 145,
   "id": "fc368616-6356-4960-b152-f21036dc21cd",
   "metadata": {},
   "outputs": [],
   "source": [
    "month_range = []"
   ]
  },
  {
   "cell_type": "code",
   "execution_count": 146,
   "id": "eaedadfe-2c41-4375-a3e7-816ed4fb4079",
   "metadata": {},
   "outputs": [],
   "source": [
    "while start_date <= this_month:\n",
    "    month_range.append(start_date)\n",
    "    start_date += relativedelta(months=1)"
   ]
  },
  {
   "cell_type": "markdown",
   "id": "e5efb3af-f2e7-43b8-bf72-48aee00ca23d",
   "metadata": {},
   "source": [
    "Break that into paired start and end dates"
   ]
  },
  {
   "cell_type": "code",
   "execution_count": 147,
   "id": "8586303e-575e-4690-971a-fcf129613f44",
   "metadata": {},
   "outputs": [],
   "source": [
    "month_sets = []"
   ]
  },
  {
   "cell_type": "code",
   "execution_count": 148,
   "id": "f14c9846-2f9a-4d58-b2ff-0e2659d61803",
   "metadata": {},
   "outputs": [],
   "source": [
    "for i, m in list(enumerate(month_range))[1:]:\n",
    "    try:\n",
    "        month_sets.append([m, month_range[i+1]])\n",
    "    except IndexError:\n",
    "        continue"
   ]
  },
  {
   "cell_type": "markdown",
   "id": "04a8ea39-707c-42b3-909a-05129fdb3960",
   "metadata": {},
   "source": [
    "Download each month's file into a JSON on disk"
   ]
  },
  {
   "cell_type": "code",
   "execution_count": 149,
   "id": "c4f85de9-eadf-4a56-81b4-36ccec6af529",
   "metadata": {},
   "outputs": [],
   "source": [
    "to_unix = lambda x: int(x.timestamp()) * 1000"
   ]
  },
  {
   "cell_type": "code",
   "execution_count": 150,
   "id": "6a0d3bb5-2d02-4bbc-9e2c-937643c278af",
   "metadata": {},
   "outputs": [],
   "source": [
    "def get_payload(from_date, to_date):\n",
    "    return json.dumps({\n",
    "        'filters':['publisher:washingtonpost.com'],\n",
    "        'aggregate_by':'publisher',\n",
    "        'sort_by': \"fb_total.count\",\n",
    "        'from': to_unix(from_date),\n",
    "        'to': to_unix(to_date),\n",
    "    })"
   ]
  },
  {
   "cell_type": "code",
   "execution_count": 174,
   "id": "584bcf31-8e96-492f-a88a-27eede5e2ab6",
   "metadata": {},
   "outputs": [],
   "source": [
    "def get_newswhip_totals(from_date, to_date):\n",
    "    json_path = pathlib.Path(f\"./data/{from_date}.json\")\n",
    "    if json_path.exists():\n",
    "        return json.load(open(json_path, 'r'))\n",
    "    else:\n",
    "        data = get_payload(from_date, to_date)\n",
    "        r = requests.post(url=api_endpoint, data=data)\n",
    "        results = r.json()\n",
    "        json.dump(results, open(f\"./data/{from_date}.json\", \"w\"), indent=2)\n",
    "        return results"
   ]
  },
  {
   "cell_type": "code",
   "execution_count": 180,
   "id": "11127f85-06df-4271-90c2-bb30814df138",
   "metadata": {},
   "outputs": [],
   "source": [
    "results_dict = {}"
   ]
  },
  {
   "cell_type": "code",
   "execution_count": 181,
   "id": "1d7d7609-0360-4849-ad35-15f3fe8562d6",
   "metadata": {},
   "outputs": [],
   "source": [
    "for from_date, to_date in month_sets:\n",
    "    results_dict[from_date] = get_newswhip_totals(from_date, to_date)"
   ]
  },
  {
   "cell_type": "markdown",
   "id": "cead0875-b125-4e0e-9c36-a062c3d4b15a",
   "metadata": {},
   "source": [
    "## Consolidate\n",
    "\n",
    "Merge all the JSON files into a single dataframe with the values we want to analyze"
   ]
  },
  {
   "cell_type": "code",
   "execution_count": 198,
   "id": "2a632178-47e6-45f2-8c3a-e673c0d305e5",
   "metadata": {},
   "outputs": [],
   "source": [
    "def parse_results(r):\n",
    "    return {\n",
    "        'month': r[0],\n",
    "        'article_count': r[1][0]['stats']['fb_total']['count'],\n",
    "        'engagements': r[1][0]['stats']['fb_total']['sum'],\n",
    "    }"
   ]
  },
  {
   "cell_type": "code",
   "execution_count": 202,
   "id": "9ef87766-d5b7-46bd-9726-157e9829fb5f",
   "metadata": {},
   "outputs": [],
   "source": [
    "result_list = []"
   ]
  },
  {
   "cell_type": "code",
   "execution_count": 203,
   "id": "522c2462-2870-4ac7-b9f6-ba863d7ec944",
   "metadata": {},
   "outputs": [],
   "source": [
    "for r in results_dict.items():\n",
    "    result_list.append(parse_results(r))"
   ]
  },
  {
   "cell_type": "code",
   "execution_count": 204,
   "id": "c1488e09-9de8-42ec-abb8-2ed7680c0fcb",
   "metadata": {},
   "outputs": [],
   "source": [
    "df = pd.DataFrame(result_list)"
   ]
  },
  {
   "cell_type": "code",
   "execution_count": 207,
   "id": "9af31440-850a-4fae-9e77-33a4f23e8e8e",
   "metadata": {},
   "outputs": [
    {
     "data": {
      "text/html": [
       "<div>\n",
       "<style scoped>\n",
       "    .dataframe tbody tr th:only-of-type {\n",
       "        vertical-align: middle;\n",
       "    }\n",
       "\n",
       "    .dataframe tbody tr th {\n",
       "        vertical-align: top;\n",
       "    }\n",
       "\n",
       "    .dataframe thead th {\n",
       "        text-align: right;\n",
       "    }\n",
       "</style>\n",
       "<table border=\"1\" class=\"dataframe\">\n",
       "  <thead>\n",
       "    <tr style=\"text-align: right;\">\n",
       "      <th></th>\n",
       "      <th>month</th>\n",
       "      <th>article_count</th>\n",
       "      <th>engagements</th>\n",
       "    </tr>\n",
       "  </thead>\n",
       "  <tbody>\n",
       "    <tr>\n",
       "      <th>89</th>\n",
       "      <td>2021-08-01 00:00:00+00:00</td>\n",
       "      <td>6483</td>\n",
       "      <td>10416600.0</td>\n",
       "    </tr>\n",
       "    <tr>\n",
       "      <th>90</th>\n",
       "      <td>2021-09-01 00:00:00+00:00</td>\n",
       "      <td>7446</td>\n",
       "      <td>8521194.0</td>\n",
       "    </tr>\n",
       "    <tr>\n",
       "      <th>91</th>\n",
       "      <td>2021-10-01 00:00:00+00:00</td>\n",
       "      <td>7821</td>\n",
       "      <td>7437303.0</td>\n",
       "    </tr>\n",
       "    <tr>\n",
       "      <th>92</th>\n",
       "      <td>2021-11-01 00:00:00+00:00</td>\n",
       "      <td>8283</td>\n",
       "      <td>7814014.0</td>\n",
       "    </tr>\n",
       "    <tr>\n",
       "      <th>93</th>\n",
       "      <td>2021-12-01 00:00:00+00:00</td>\n",
       "      <td>6863</td>\n",
       "      <td>8526550.0</td>\n",
       "    </tr>\n",
       "    <tr>\n",
       "      <th>94</th>\n",
       "      <td>2022-01-01 00:00:00+00:00</td>\n",
       "      <td>7415</td>\n",
       "      <td>9288538.0</td>\n",
       "    </tr>\n",
       "    <tr>\n",
       "      <th>95</th>\n",
       "      <td>2022-02-01 00:00:00+00:00</td>\n",
       "      <td>7746</td>\n",
       "      <td>7889832.0</td>\n",
       "    </tr>\n",
       "    <tr>\n",
       "      <th>96</th>\n",
       "      <td>2022-03-01 00:00:00+00:00</td>\n",
       "      <td>8183</td>\n",
       "      <td>9690655.0</td>\n",
       "    </tr>\n",
       "    <tr>\n",
       "      <th>97</th>\n",
       "      <td>2022-04-01 00:00:00+00:00</td>\n",
       "      <td>6135</td>\n",
       "      <td>6837711.0</td>\n",
       "    </tr>\n",
       "    <tr>\n",
       "      <th>98</th>\n",
       "      <td>2022-05-01 00:00:00+00:00</td>\n",
       "      <td>6354</td>\n",
       "      <td>8206302.0</td>\n",
       "    </tr>\n",
       "    <tr>\n",
       "      <th>99</th>\n",
       "      <td>2022-06-01 00:00:00+00:00</td>\n",
       "      <td>6410</td>\n",
       "      <td>6835434.0</td>\n",
       "    </tr>\n",
       "    <tr>\n",
       "      <th>100</th>\n",
       "      <td>2022-07-01 00:00:00+00:00</td>\n",
       "      <td>5768</td>\n",
       "      <td>7418472.0</td>\n",
       "    </tr>\n",
       "  </tbody>\n",
       "</table>\n",
       "</div>"
      ],
      "text/plain": [
       "                        month  article_count  engagements\n",
       "89  2021-08-01 00:00:00+00:00           6483   10416600.0\n",
       "90  2021-09-01 00:00:00+00:00           7446    8521194.0\n",
       "91  2021-10-01 00:00:00+00:00           7821    7437303.0\n",
       "92  2021-11-01 00:00:00+00:00           8283    7814014.0\n",
       "93  2021-12-01 00:00:00+00:00           6863    8526550.0\n",
       "94  2022-01-01 00:00:00+00:00           7415    9288538.0\n",
       "95  2022-02-01 00:00:00+00:00           7746    7889832.0\n",
       "96  2022-03-01 00:00:00+00:00           8183    9690655.0\n",
       "97  2022-04-01 00:00:00+00:00           6135    6837711.0\n",
       "98  2022-05-01 00:00:00+00:00           6354    8206302.0\n",
       "99  2022-06-01 00:00:00+00:00           6410    6835434.0\n",
       "100 2022-07-01 00:00:00+00:00           5768    7418472.0"
      ]
     },
     "execution_count": 207,
     "metadata": {},
     "output_type": "execute_result"
    }
   ],
   "source": [
    "df.tail(12)"
   ]
  },
  {
   "cell_type": "markdown",
   "id": "590cf2ea-28c5-4427-a55c-afa86857c629",
   "metadata": {},
   "source": [
    "## Analyze"
   ]
  },
  {
   "cell_type": "code",
   "execution_count": 210,
   "id": "1d48919e-b99d-4049-82e4-a231fde25583",
   "metadata": {},
   "outputs": [],
   "source": [
    "df['rolling_average'] = df.article_count.rolling(12).mean()"
   ]
  },
  {
   "cell_type": "code",
   "execution_count": 212,
   "id": "2be4867e-2a24-4b91-a75d-6caae5792ec2",
   "metadata": {},
   "outputs": [
    {
     "data": {
      "text/html": [
       "\n",
       "<div id=\"altair-viz-d88999b61b0a43aeaaea4629bc1c51c3\"></div>\n",
       "<script type=\"text/javascript\">\n",
       "  var VEGA_DEBUG = (typeof VEGA_DEBUG == \"undefined\") ? {} : VEGA_DEBUG;\n",
       "  (function(spec, embedOpt){\n",
       "    let outputDiv = document.currentScript.previousElementSibling;\n",
       "    if (outputDiv.id !== \"altair-viz-d88999b61b0a43aeaaea4629bc1c51c3\") {\n",
       "      outputDiv = document.getElementById(\"altair-viz-d88999b61b0a43aeaaea4629bc1c51c3\");\n",
       "    }\n",
       "    const paths = {\n",
       "      \"vega\": \"https://cdn.jsdelivr.net/npm//vega@5?noext\",\n",
       "      \"vega-lib\": \"https://cdn.jsdelivr.net/npm//vega-lib?noext\",\n",
       "      \"vega-lite\": \"https://cdn.jsdelivr.net/npm//vega-lite@4.17.0?noext\",\n",
       "      \"vega-embed\": \"https://cdn.jsdelivr.net/npm//vega-embed@6?noext\",\n",
       "    };\n",
       "\n",
       "    function maybeLoadScript(lib, version) {\n",
       "      var key = `${lib.replace(\"-\", \"\")}_version`;\n",
       "      return (VEGA_DEBUG[key] == version) ?\n",
       "        Promise.resolve(paths[lib]) :\n",
       "        new Promise(function(resolve, reject) {\n",
       "          var s = document.createElement('script');\n",
       "          document.getElementsByTagName(\"head\")[0].appendChild(s);\n",
       "          s.async = true;\n",
       "          s.onload = () => {\n",
       "            VEGA_DEBUG[key] = version;\n",
       "            return resolve(paths[lib]);\n",
       "          };\n",
       "          s.onerror = () => reject(`Error loading script: ${paths[lib]}`);\n",
       "          s.src = paths[lib];\n",
       "        });\n",
       "    }\n",
       "\n",
       "    function showError(err) {\n",
       "      outputDiv.innerHTML = `<div class=\"error\" style=\"color:red;\">${err}</div>`;\n",
       "      throw err;\n",
       "    }\n",
       "\n",
       "    function displayChart(vegaEmbed) {\n",
       "      vegaEmbed(outputDiv, spec, embedOpt)\n",
       "        .catch(err => showError(`Javascript Error: ${err.message}<br>This usually means there's a typo in your chart specification. See the javascript console for the full traceback.`));\n",
       "    }\n",
       "\n",
       "    if(typeof define === \"function\" && define.amd) {\n",
       "      requirejs.config({paths});\n",
       "      require([\"vega-embed\"], displayChart, err => showError(`Error loading script: ${err.message}`));\n",
       "    } else {\n",
       "      maybeLoadScript(\"vega\", \"5\")\n",
       "        .then(() => maybeLoadScript(\"vega-lite\", \"4.17.0\"))\n",
       "        .then(() => maybeLoadScript(\"vega-embed\", \"6\"))\n",
       "        .catch(showError)\n",
       "        .then(() => displayChart(vegaEmbed));\n",
       "    }\n",
       "  })({\"config\": {\"view\": {\"continuousWidth\": 400, \"continuousHeight\": 300}}, \"layer\": [{\"mark\": \"bar\", \"encoding\": {\"x\": {\"field\": \"month\", \"type\": \"ordinal\"}, \"y\": {\"field\": \"article_count\", \"type\": \"quantitative\"}}}, {\"mark\": \"line\", \"encoding\": {\"x\": {\"field\": \"month\", \"type\": \"ordinal\"}, \"y\": {\"field\": \"rolling_average\", \"type\": \"quantitative\"}}}], \"data\": {\"name\": \"data-bad0533d496c4caea5c0b3a136c4a7f1\"}, \"width\": 500, \"$schema\": \"https://vega.github.io/schema/vega-lite/v4.17.0.json\", \"datasets\": {\"data-bad0533d496c4caea5c0b3a136c4a7f1\": [{\"month\": \"2014-03-01T00:00:00+00:00\", \"article_count\": 7551, \"engagements\": 0.0, \"rolling_average\": null}, {\"month\": \"2014-04-01T00:00:00+00:00\", \"article_count\": 7745, \"engagements\": 0.0, \"rolling_average\": null}, {\"month\": \"2014-05-01T00:00:00+00:00\", \"article_count\": 8560, \"engagements\": 0.0, \"rolling_average\": null}, {\"month\": \"2014-06-01T00:00:00+00:00\", \"article_count\": 8465, \"engagements\": 0.0, \"rolling_average\": null}, {\"month\": \"2014-07-01T00:00:00+00:00\", \"article_count\": 8568, \"engagements\": 0.0, \"rolling_average\": null}, {\"month\": \"2014-08-01T00:00:00+00:00\", \"article_count\": 8828, \"engagements\": 0.0, \"rolling_average\": null}, {\"month\": \"2014-09-01T00:00:00+00:00\", \"article_count\": 9827, \"engagements\": 0.0, \"rolling_average\": null}, {\"month\": \"2014-10-01T00:00:00+00:00\", \"article_count\": 10188, \"engagements\": 0.0, \"rolling_average\": null}, {\"month\": \"2014-11-01T00:00:00+00:00\", \"article_count\": 9314, \"engagements\": 0.0, \"rolling_average\": null}, {\"month\": \"2014-12-01T00:00:00+00:00\", \"article_count\": 9550, \"engagements\": 0.0, \"rolling_average\": null}, {\"month\": \"2015-01-01T00:00:00+00:00\", \"article_count\": 9850, \"engagements\": 0.0, \"rolling_average\": null}, {\"month\": \"2015-02-01T00:00:00+00:00\", \"article_count\": 8861, \"engagements\": 0.0, \"rolling_average\": 8942.25}, {\"month\": \"2015-03-01T00:00:00+00:00\", \"article_count\": 9844, \"engagements\": 0.0, \"rolling_average\": 9133.333333333334}, {\"month\": \"2015-04-01T00:00:00+00:00\", \"article_count\": 9557, \"engagements\": 0.0, \"rolling_average\": 9284.333333333334}, {\"month\": \"2015-05-01T00:00:00+00:00\", \"article_count\": 8869, \"engagements\": 0.0, \"rolling_average\": 9310.083333333334}, {\"month\": \"2015-06-01T00:00:00+00:00\", \"article_count\": 9150, \"engagements\": 0.0, \"rolling_average\": 9367.166666666666}, {\"month\": \"2015-07-01T00:00:00+00:00\", \"article_count\": 9601, \"engagements\": 0.0, \"rolling_average\": 9453.25}, {\"month\": \"2015-08-01T00:00:00+00:00\", \"article_count\": 8930, \"engagements\": 0.0, \"rolling_average\": 9461.75}, {\"month\": \"2015-09-01T00:00:00+00:00\", \"article_count\": 11173, \"engagements\": 0.0, \"rolling_average\": 9573.916666666666}, {\"month\": \"2015-10-01T00:00:00+00:00\", \"article_count\": 13572, \"engagements\": 0.0, \"rolling_average\": 9855.916666666666}, {\"month\": \"2015-11-01T00:00:00+00:00\", \"article_count\": 12935, \"engagements\": 0.0, \"rolling_average\": 10157.666666666666}, {\"month\": \"2015-12-01T00:00:00+00:00\", \"article_count\": 11388, \"engagements\": 0.0, \"rolling_average\": 10310.833333333334}, {\"month\": \"2016-01-01T00:00:00+00:00\", \"article_count\": 11624, \"engagements\": 15143601.0, \"rolling_average\": 10458.666666666666}, {\"month\": \"2016-02-01T00:00:00+00:00\", \"article_count\": 12045, \"engagements\": 14553070.0, \"rolling_average\": 10724.0}, {\"month\": \"2016-03-01T00:00:00+00:00\", \"article_count\": 12770, \"engagements\": 13633478.0, \"rolling_average\": 10967.833333333334}, {\"month\": \"2016-04-01T00:00:00+00:00\", \"article_count\": 11860, \"engagements\": 10421783.0, \"rolling_average\": 11159.75}, {\"month\": \"2016-05-01T00:00:00+00:00\", \"article_count\": 11978, \"engagements\": 10736672.0, \"rolling_average\": 11418.833333333334}, {\"month\": \"2016-06-01T00:00:00+00:00\", \"article_count\": 12322, \"engagements\": 13420593.0, \"rolling_average\": 11683.166666666666}, {\"month\": \"2016-07-01T00:00:00+00:00\", \"article_count\": 11909, \"engagements\": 13617625.0, \"rolling_average\": 11875.5}, {\"month\": \"2016-08-01T00:00:00+00:00\", \"article_count\": 11627, \"engagements\": 17136038.0, \"rolling_average\": 12100.25}, {\"month\": \"2016-09-01T00:00:00+00:00\", \"article_count\": 12012, \"engagements\": 17338694.0, \"rolling_average\": 12170.166666666666}, {\"month\": \"2016-10-01T00:00:00+00:00\", \"article_count\": 11961, \"engagements\": 19095653.0, \"rolling_average\": 12035.916666666666}, {\"month\": \"2016-11-01T00:00:00+00:00\", \"article_count\": 11301, \"engagements\": 24294832.0, \"rolling_average\": 11899.75}, {\"month\": \"2016-12-01T00:00:00+00:00\", \"article_count\": 10341, \"engagements\": 19620182.0, \"rolling_average\": 11812.5}, {\"month\": \"2017-01-01T00:00:00+00:00\", \"article_count\": 11383, \"engagements\": 26443042.0, \"rolling_average\": 11792.416666666666}, {\"month\": \"2017-02-01T00:00:00+00:00\", \"article_count\": 10410, \"engagements\": 26024430.0, \"rolling_average\": 11656.166666666666}, {\"month\": \"2017-03-01T00:00:00+00:00\", \"article_count\": 9215, \"engagements\": 18043523.0, \"rolling_average\": 11359.916666666666}, {\"month\": \"2017-04-01T00:00:00+00:00\", \"article_count\": 10377, \"engagements\": 15257569.0, \"rolling_average\": 11236.333333333334}, {\"month\": \"2017-05-01T00:00:00+00:00\", \"article_count\": 11398, \"engagements\": 19346269.0, \"rolling_average\": 11188.0}, {\"month\": \"2017-06-01T00:00:00+00:00\", \"article_count\": 11169, \"engagements\": 20049940.0, \"rolling_average\": 11091.916666666666}, {\"month\": \"2017-07-01T00:00:00+00:00\", \"article_count\": 9865, \"engagements\": 19489815.0, \"rolling_average\": 10921.583333333334}, {\"month\": \"2017-08-01T00:00:00+00:00\", \"article_count\": 10523, \"engagements\": 20338525.0, \"rolling_average\": 10829.583333333334}, {\"month\": \"2017-09-01T00:00:00+00:00\", \"article_count\": 10440, \"engagements\": 17856862.0, \"rolling_average\": 10698.583333333334}, {\"month\": \"2017-10-01T00:00:00+00:00\", \"article_count\": 10656, \"engagements\": 17463822.0, \"rolling_average\": 10589.833333333334}, {\"month\": \"2017-11-01T00:00:00+00:00\", \"article_count\": 10121, \"engagements\": 14610107.0, \"rolling_average\": 10491.5}, {\"month\": \"2017-12-01T00:00:00+00:00\", \"article_count\": 8780, \"engagements\": 13705565.0, \"rolling_average\": 10361.416666666666}, {\"month\": \"2018-01-01T00:00:00+00:00\", \"article_count\": 10595, \"engagements\": 18678040.0, \"rolling_average\": 10295.75}, {\"month\": \"2018-02-01T00:00:00+00:00\", \"article_count\": 9719, \"engagements\": 17550405.0, \"rolling_average\": 10238.166666666666}, {\"month\": \"2018-03-01T00:00:00+00:00\", \"article_count\": 10367, \"engagements\": 20320901.0, \"rolling_average\": 10334.166666666666}, {\"month\": \"2018-04-01T00:00:00+00:00\", \"article_count\": 10529, \"engagements\": 15989618.0, \"rolling_average\": 10346.833333333334}, {\"month\": \"2018-05-01T00:00:00+00:00\", \"article_count\": 11121, \"engagements\": 14025267.0, \"rolling_average\": 10323.75}, {\"month\": \"2018-06-01T00:00:00+00:00\", \"article_count\": 11885, \"engagements\": 19633790.0, \"rolling_average\": 10383.416666666666}, {\"month\": \"2018-07-01T00:00:00+00:00\", \"article_count\": 10010, \"engagements\": 14310055.0, \"rolling_average\": 10395.5}, {\"month\": \"2018-08-01T00:00:00+00:00\", \"article_count\": 7904, \"engagements\": 13833598.0, \"rolling_average\": 10177.25}, {\"month\": \"2018-09-01T00:00:00+00:00\", \"article_count\": 10137, \"engagements\": 15853315.0, \"rolling_average\": 10152.0}, {\"month\": \"2018-10-01T00:00:00+00:00\", \"article_count\": 12409, \"engagements\": 23610926.0, \"rolling_average\": 10298.083333333334}, {\"month\": \"2018-11-01T00:00:00+00:00\", \"article_count\": 11480, \"engagements\": 23623335.0, \"rolling_average\": 10411.333333333334}, {\"month\": \"2018-12-01T00:00:00+00:00\", \"article_count\": 9279, \"engagements\": 20913030.0, \"rolling_average\": 10452.916666666666}, {\"month\": \"2019-01-01T00:00:00+00:00\", \"article_count\": 10259, \"engagements\": 15833102.0, \"rolling_average\": 10424.916666666666}, {\"month\": \"2019-02-01T00:00:00+00:00\", \"article_count\": 9148, \"engagements\": 12360545.0, \"rolling_average\": 10377.333333333334}, {\"month\": \"2019-03-01T00:00:00+00:00\", \"article_count\": 12900, \"engagements\": 13026466.0, \"rolling_average\": 10588.416666666666}, {\"month\": \"2019-04-01T00:00:00+00:00\", \"article_count\": 13398, \"engagements\": 15206511.0, \"rolling_average\": 10827.5}, {\"month\": \"2019-05-01T00:00:00+00:00\", \"article_count\": 12739, \"engagements\": 24210012.0, \"rolling_average\": 10962.333333333334}, {\"month\": \"2019-06-01T00:00:00+00:00\", \"article_count\": 9890, \"engagements\": 26224237.0, \"rolling_average\": 10796.083333333334}, {\"month\": \"2019-07-01T00:00:00+00:00\", \"article_count\": 9677, \"engagements\": 27449024.0, \"rolling_average\": 10768.333333333334}, {\"month\": \"2019-08-01T00:00:00+00:00\", \"article_count\": 9112, \"engagements\": 21677376.0, \"rolling_average\": 10869.0}, {\"month\": \"2019-09-01T00:00:00+00:00\", \"article_count\": 10642, \"engagements\": 22400609.0, \"rolling_average\": 10911.083333333334}, {\"month\": \"2019-10-01T00:00:00+00:00\", \"article_count\": 11818, \"engagements\": 28425724.0, \"rolling_average\": 10861.833333333334}, {\"month\": \"2019-11-01T00:00:00+00:00\", \"article_count\": 10568, \"engagements\": 25956471.0, \"rolling_average\": 10785.833333333334}, {\"month\": \"2019-12-01T00:00:00+00:00\", \"article_count\": 9163, \"engagements\": 23981446.0, \"rolling_average\": 10776.166666666666}, {\"month\": \"2020-01-01T00:00:00+00:00\", \"article_count\": 9463, \"engagements\": 28471196.0, \"rolling_average\": 10709.833333333334}, {\"month\": \"2020-02-01T00:00:00+00:00\", \"article_count\": 8805, \"engagements\": 40460129.0, \"rolling_average\": 10681.25}, {\"month\": \"2020-03-01T00:00:00+00:00\", \"article_count\": 8898, \"engagements\": 61101023.0, \"rolling_average\": 10347.75}, {\"month\": \"2020-04-01T00:00:00+00:00\", \"article_count\": 7942, \"engagements\": 58665604.0, \"rolling_average\": 9893.083333333334}, {\"month\": \"2020-05-01T00:00:00+00:00\", \"article_count\": 8638, \"engagements\": 49644772.0, \"rolling_average\": 9551.333333333334}, {\"month\": \"2020-06-01T00:00:00+00:00\", \"article_count\": 9166, \"engagements\": 63187168.0, \"rolling_average\": 9491.0}, {\"month\": \"2020-07-01T00:00:00+00:00\", \"article_count\": 7943, \"engagements\": 45139023.0, \"rolling_average\": 9346.5}, {\"month\": \"2020-08-01T00:00:00+00:00\", \"article_count\": 7301, \"engagements\": 45658946.0, \"rolling_average\": 9195.583333333334}, {\"month\": \"2020-09-01T00:00:00+00:00\", \"article_count\": 7317, \"engagements\": 28467775.0, \"rolling_average\": 8918.5}, {\"month\": \"2020-10-01T00:00:00+00:00\", \"article_count\": 7863, \"engagements\": 27492288.0, \"rolling_average\": 8588.916666666666}, {\"month\": \"2020-11-01T00:00:00+00:00\", \"article_count\": 7011, \"engagements\": 29130808.0, \"rolling_average\": 8292.5}, {\"month\": \"2020-12-01T00:00:00+00:00\", \"article_count\": 6906, \"engagements\": 31613359.0, \"rolling_average\": 8104.416666666667}, {\"month\": \"2021-01-01T00:00:00+00:00\", \"article_count\": 7094, \"engagements\": 54413138.0, \"rolling_average\": 7907.0}, {\"month\": \"2021-02-01T00:00:00+00:00\", \"article_count\": 5995, \"engagements\": 26233918.0, \"rolling_average\": 7672.833333333333}, {\"month\": \"2021-03-01T00:00:00+00:00\", \"article_count\": 6978, \"engagements\": 17978358.0, \"rolling_average\": 7512.833333333333}, {\"month\": \"2021-04-01T00:00:00+00:00\", \"article_count\": 6373, \"engagements\": 12740387.0, \"rolling_average\": 7382.083333333333}, {\"month\": \"2021-05-01T00:00:00+00:00\", \"article_count\": 6225, \"engagements\": 13027854.0, \"rolling_average\": 7181.0}, {\"month\": \"2021-06-01T00:00:00+00:00\", \"article_count\": 6423, \"engagements\": 11637842.0, \"rolling_average\": 6952.416666666667}, {\"month\": \"2021-07-01T00:00:00+00:00\", \"article_count\": 6280, \"engagements\": 10095210.0, \"rolling_average\": 6813.833333333333}, {\"month\": \"2021-08-01T00:00:00+00:00\", \"article_count\": 6483, \"engagements\": 10416600.0, \"rolling_average\": 6745.666666666667}, {\"month\": \"2021-09-01T00:00:00+00:00\", \"article_count\": 7446, \"engagements\": 8521194.0, \"rolling_average\": 6756.416666666667}, {\"month\": \"2021-10-01T00:00:00+00:00\", \"article_count\": 7821, \"engagements\": 7437303.0, \"rolling_average\": 6752.916666666667}, {\"month\": \"2021-11-01T00:00:00+00:00\", \"article_count\": 8283, \"engagements\": 7814014.0, \"rolling_average\": 6858.916666666667}, {\"month\": \"2021-12-01T00:00:00+00:00\", \"article_count\": 6863, \"engagements\": 8526550.0, \"rolling_average\": 6855.333333333333}, {\"month\": \"2022-01-01T00:00:00+00:00\", \"article_count\": 7415, \"engagements\": 9288538.0, \"rolling_average\": 6882.083333333333}, {\"month\": \"2022-02-01T00:00:00+00:00\", \"article_count\": 7746, \"engagements\": 7889832.0, \"rolling_average\": 7028.0}, {\"month\": \"2022-03-01T00:00:00+00:00\", \"article_count\": 8183, \"engagements\": 9690655.0, \"rolling_average\": 7128.416666666667}, {\"month\": \"2022-04-01T00:00:00+00:00\", \"article_count\": 6135, \"engagements\": 6837711.0, \"rolling_average\": 7108.583333333333}, {\"month\": \"2022-05-01T00:00:00+00:00\", \"article_count\": 6354, \"engagements\": 8206302.0, \"rolling_average\": 7119.333333333333}, {\"month\": \"2022-06-01T00:00:00+00:00\", \"article_count\": 6410, \"engagements\": 6835434.0, \"rolling_average\": 7118.25}, {\"month\": \"2022-07-01T00:00:00+00:00\", \"article_count\": 5768, \"engagements\": 7418472.0, \"rolling_average\": 7075.583333333333}]}}, {\"mode\": \"vega-lite\"});\n",
       "</script>"
      ],
      "text/plain": [
       "alt.LayerChart(...)"
      ]
     },
     "execution_count": 212,
     "metadata": {},
     "output_type": "execute_result"
    }
   ],
   "source": [
    "chart = alt.Chart(df).encode(\n",
    "    x=alt.X(\"month:O\"),\n",
    ")\n",
    "\n",
    "bars = chart.mark_bar().encode(\n",
    "    y=alt.Y(\"article_count:Q\")\n",
    ")\n",
    "\n",
    "line = chart.mark_line().encode(\n",
    "    y=alt.Y(\"rolling_average:Q\")\n",
    ")\n",
    "\n",
    "(bars + line).properties(width=500)"
   ]
  },
  {
   "cell_type": "markdown",
   "id": "4291c034-2df5-4a10-aa98-b36983c295bb",
   "metadata": {},
   "source": [
    "## Export"
   ]
  },
  {
   "cell_type": "code",
   "execution_count": 213,
   "id": "2c6a0537-19d4-4000-91e7-03cb0ff1239b",
   "metadata": {},
   "outputs": [],
   "source": [
    "df.to_csv(\"./totals.csv\", index=False)"
   ]
  }
 ],
 "metadata": {
  "kernelspec": {
   "display_name": "Python 3 (ipykernel)",
   "language": "python",
   "name": "python3"
  },
  "language_info": {
   "codemirror_mode": {
    "name": "ipython",
    "version": 3
   },
   "file_extension": ".py",
   "mimetype": "text/x-python",
   "name": "python",
   "nbconvert_exporter": "python",
   "pygments_lexer": "ipython3",
   "version": "3.9.2"
  }
 },
 "nbformat": 4,
 "nbformat_minor": 5
}
